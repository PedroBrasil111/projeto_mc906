{
 "cells": [
  {
   "cell_type": "code",
   "execution_count": 38,
   "id": "2c21dcf4",
   "metadata": {},
   "outputs": [],
   "source": [
    "import pandas as pd\n",
    "import numpy as np\n",
    "import json"
   ]
  },
  {
   "cell_type": "code",
   "execution_count": null,
   "id": "417c0381",
   "metadata": {},
   "outputs": [],
   "source": [
    "df = pd.read_json(\"features/Kaisa_features.json\")\n",
    "\n",
    "df_expanded = pd.concat([\n",
    "    df[col].apply(pd.Series).add_prefix(f'{col}_')\n",
    "    for col in df.columns\n",
    "], axis=1)\n",
    "\n",
    "for i in range(10):\n",
    "    items_col = f\"{i}_items\"\n",
    "    items_expanded = df_expanded[items_col].apply(pd.Series)\n",
    "    items_expanded.columns = [f\"{items_col}_{j}\" for j in range(items_expanded.shape[1])]\n",
    "    df_expanded = pd.concat([df_expanded, items_expanded], axis=1)\n",
    "\n",
    "#df_expanded.to_csv(\"features/Kaisa_features_expanded.csv\", index=False)"
   ]
  },
  {
   "cell_type": "code",
   "execution_count": 31,
   "id": "25a872aa",
   "metadata": {},
   "outputs": [
    {
     "data": {
      "text/html": [
       "<div>\n",
       "<style scoped>\n",
       "    .dataframe tbody tr th:only-of-type {\n",
       "        vertical-align: middle;\n",
       "    }\n",
       "\n",
       "    .dataframe tbody tr th {\n",
       "        vertical-align: top;\n",
       "    }\n",
       "\n",
       "    .dataframe thead th {\n",
       "        text-align: right;\n",
       "    }\n",
       "</style>\n",
       "<table border=\"1\" class=\"dataframe\">\n",
       "  <thead>\n",
       "    <tr style=\"text-align: right;\">\n",
       "      <th></th>\n",
       "      <th>count</th>\n",
       "      <th>mean</th>\n",
       "      <th>std</th>\n",
       "      <th>min</th>\n",
       "      <th>25%</th>\n",
       "      <th>50%</th>\n",
       "      <th>75%</th>\n",
       "      <th>max</th>\n",
       "    </tr>\n",
       "  </thead>\n",
       "  <tbody>\n",
       "    <tr>\n",
       "      <th>0_championId</th>\n",
       "      <td>994.0</td>\n",
       "      <td>190.557344</td>\n",
       "      <td>261.762481</td>\n",
       "      <td>1.0</td>\n",
       "      <td>41.00</td>\n",
       "      <td>84.5</td>\n",
       "      <td>150.0</td>\n",
       "      <td>950.0</td>\n",
       "    </tr>\n",
       "    <tr>\n",
       "      <th>0_teamId</th>\n",
       "      <td>994.0</td>\n",
       "      <td>100.402414</td>\n",
       "      <td>6.334025</td>\n",
       "      <td>100.0</td>\n",
       "      <td>100.00</td>\n",
       "      <td>100.0</td>\n",
       "      <td>100.0</td>\n",
       "      <td>200.0</td>\n",
       "    </tr>\n",
       "    <tr>\n",
       "      <th>0_kills</th>\n",
       "      <td>994.0</td>\n",
       "      <td>5.838028</td>\n",
       "      <td>4.373881</td>\n",
       "      <td>0.0</td>\n",
       "      <td>3.00</td>\n",
       "      <td>5.0</td>\n",
       "      <td>8.0</td>\n",
       "      <td>28.0</td>\n",
       "    </tr>\n",
       "    <tr>\n",
       "      <th>0_deaths</th>\n",
       "      <td>994.0</td>\n",
       "      <td>6.019115</td>\n",
       "      <td>3.448753</td>\n",
       "      <td>0.0</td>\n",
       "      <td>4.00</td>\n",
       "      <td>6.0</td>\n",
       "      <td>8.0</td>\n",
       "      <td>20.0</td>\n",
       "    </tr>\n",
       "    <tr>\n",
       "      <th>0_assists</th>\n",
       "      <td>994.0</td>\n",
       "      <td>5.334004</td>\n",
       "      <td>4.206779</td>\n",
       "      <td>0.0</td>\n",
       "      <td>2.00</td>\n",
       "      <td>5.0</td>\n",
       "      <td>8.0</td>\n",
       "      <td>27.0</td>\n",
       "    </tr>\n",
       "    <tr>\n",
       "      <th>...</th>\n",
       "      <td>...</td>\n",
       "      <td>...</td>\n",
       "      <td>...</td>\n",
       "      <td>...</td>\n",
       "      <td>...</td>\n",
       "      <td>...</td>\n",
       "      <td>...</td>\n",
       "      <td>...</td>\n",
       "    </tr>\n",
       "    <tr>\n",
       "      <th>9_items_2</th>\n",
       "      <td>994.0</td>\n",
       "      <td>3254.252515</td>\n",
       "      <td>1580.688229</td>\n",
       "      <td>0.0</td>\n",
       "      <td>3010.25</td>\n",
       "      <td>3154.5</td>\n",
       "      <td>3869.0</td>\n",
       "      <td>8020.0</td>\n",
       "    </tr>\n",
       "    <tr>\n",
       "      <th>9_items_3</th>\n",
       "      <td>994.0</td>\n",
       "      <td>3248.474849</td>\n",
       "      <td>1708.891608</td>\n",
       "      <td>0.0</td>\n",
       "      <td>3009.00</td>\n",
       "      <td>3113.0</td>\n",
       "      <td>3869.0</td>\n",
       "      <td>8020.0</td>\n",
       "    </tr>\n",
       "    <tr>\n",
       "      <th>9_items_4</th>\n",
       "      <td>994.0</td>\n",
       "      <td>2659.671026</td>\n",
       "      <td>1838.705793</td>\n",
       "      <td>0.0</td>\n",
       "      <td>1031.00</td>\n",
       "      <td>3067.0</td>\n",
       "      <td>3165.0</td>\n",
       "      <td>8020.0</td>\n",
       "    </tr>\n",
       "    <tr>\n",
       "      <th>9_items_5</th>\n",
       "      <td>994.0</td>\n",
       "      <td>1756.681087</td>\n",
       "      <td>1672.854232</td>\n",
       "      <td>0.0</td>\n",
       "      <td>0.00</td>\n",
       "      <td>1057.0</td>\n",
       "      <td>3088.5</td>\n",
       "      <td>6701.0</td>\n",
       "    </tr>\n",
       "    <tr>\n",
       "      <th>9_items_6</th>\n",
       "      <td>994.0</td>\n",
       "      <td>3317.359155</td>\n",
       "      <td>382.185762</td>\n",
       "      <td>0.0</td>\n",
       "      <td>3364.00</td>\n",
       "      <td>3364.0</td>\n",
       "      <td>3364.0</td>\n",
       "      <td>3513.0</td>\n",
       "    </tr>\n",
       "  </tbody>\n",
       "</table>\n",
       "<p>140 rows × 8 columns</p>\n",
       "</div>"
      ],
      "text/plain": [
       "              count         mean          std    min      25%     50%     75%  \\\n",
       "0_championId  994.0   190.557344   261.762481    1.0    41.00    84.5   150.0   \n",
       "0_teamId      994.0   100.402414     6.334025  100.0   100.00   100.0   100.0   \n",
       "0_kills       994.0     5.838028     4.373881    0.0     3.00     5.0     8.0   \n",
       "0_deaths      994.0     6.019115     3.448753    0.0     4.00     6.0     8.0   \n",
       "0_assists     994.0     5.334004     4.206779    0.0     2.00     5.0     8.0   \n",
       "...             ...          ...          ...    ...      ...     ...     ...   \n",
       "9_items_2     994.0  3254.252515  1580.688229    0.0  3010.25  3154.5  3869.0   \n",
       "9_items_3     994.0  3248.474849  1708.891608    0.0  3009.00  3113.0  3869.0   \n",
       "9_items_4     994.0  2659.671026  1838.705793    0.0  1031.00  3067.0  3165.0   \n",
       "9_items_5     994.0  1756.681087  1672.854232    0.0     0.00  1057.0  3088.5   \n",
       "9_items_6     994.0  3317.359155   382.185762    0.0  3364.00  3364.0  3364.0   \n",
       "\n",
       "                 max  \n",
       "0_championId   950.0  \n",
       "0_teamId       200.0  \n",
       "0_kills         28.0  \n",
       "0_deaths        20.0  \n",
       "0_assists       27.0  \n",
       "...              ...  \n",
       "9_items_2     8020.0  \n",
       "9_items_3     8020.0  \n",
       "9_items_4     8020.0  \n",
       "9_items_5     6701.0  \n",
       "9_items_6     3513.0  \n",
       "\n",
       "[140 rows x 8 columns]"
      ]
     },
     "execution_count": 31,
     "metadata": {},
     "output_type": "execute_result"
    }
   ],
   "source": [
    "df_expanded.describe().T"
   ]
  },
  {
   "cell_type": "code",
   "execution_count": 32,
   "id": "4a8ffeb4",
   "metadata": {},
   "outputs": [
    {
     "name": "stdout",
     "output_type": "stream",
     "text": [
      "<class 'pandas.core.frame.DataFrame'>\n",
      "RangeIndex: 994 entries, 0 to 993\n",
      "Columns: 170 entries, 0_championId to 9_items_6\n",
      "dtypes: bool(10), int64(140), object(20)\n",
      "memory usage: 1.2+ MB\n"
     ]
    }
   ],
   "source": [
    "df_expanded.info()"
   ]
  },
  {
   "cell_type": "code",
   "execution_count": null,
   "id": "a54d735c",
   "metadata": {},
   "outputs": [
    {
     "data": {
      "text/plain": [
       "0_lane                         [TOP]\n",
       "1_lane                 [TOP, JUNGLE]\n",
       "2_lane                 [JUNGLE, TOP]\n",
       "3_lane              [JUNGLE, MIDDLE]\n",
       "4_lane              [MIDDLE, JUNGLE]\n",
       "5_lane      [MIDDLE, BOTTOM, JUNGLE]\n",
       "6_lane              [BOTTOM, MIDDLE]\n",
       "7_lane     [BOTTOM, UTILITY, MIDDLE]\n",
       "8_lane             [UTILITY, BOTTOM]\n",
       "9_lane    [UTILITY, Invalid, BOTTOM]\n",
       "dtype: object"
      ]
     },
     "execution_count": 23,
     "metadata": {},
     "output_type": "execute_result"
    }
   ],
   "source": [
    "lane_df = df_expanded[[f\"{id}_lane\" for id in range(10)]]\n",
    "unique_in_col = lane_df.apply(lambda x: x.unique(), axis=0)\n",
    "unique_in_col"
   ]
  },
  {
   "cell_type": "code",
   "execution_count": null,
   "id": "df1df2a7",
   "metadata": {},
   "outputs": [
    {
     "ename": "KeyError",
     "evalue": "0",
     "output_type": "error",
     "traceback": [
      "\u001b[31m---------------------------------------------------------------------------\u001b[39m",
      "\u001b[31mKeyError\u001b[39m                                  Traceback (most recent call last)",
      "\u001b[36mFile \u001b[39m\u001b[32mc:\\Users\\User\\Desktop\\programacao\\mc906\\venv\\Lib\\site-packages\\pandas\\core\\indexes\\base.py:3812\u001b[39m, in \u001b[36mIndex.get_loc\u001b[39m\u001b[34m(self, key)\u001b[39m\n\u001b[32m   3811\u001b[39m \u001b[38;5;28;01mtry\u001b[39;00m:\n\u001b[32m-> \u001b[39m\u001b[32m3812\u001b[39m     \u001b[38;5;28;01mreturn\u001b[39;00m \u001b[38;5;28;43mself\u001b[39;49m\u001b[43m.\u001b[49m\u001b[43m_engine\u001b[49m\u001b[43m.\u001b[49m\u001b[43mget_loc\u001b[49m\u001b[43m(\u001b[49m\u001b[43mcasted_key\u001b[49m\u001b[43m)\u001b[49m\n\u001b[32m   3813\u001b[39m \u001b[38;5;28;01mexcept\u001b[39;00m \u001b[38;5;167;01mKeyError\u001b[39;00m \u001b[38;5;28;01mas\u001b[39;00m err:\n",
      "\u001b[36mFile \u001b[39m\u001b[32mpandas/_libs/index.pyx:167\u001b[39m, in \u001b[36mpandas._libs.index.IndexEngine.get_loc\u001b[39m\u001b[34m()\u001b[39m\n",
      "\u001b[36mFile \u001b[39m\u001b[32mpandas/_libs/index.pyx:196\u001b[39m, in \u001b[36mpandas._libs.index.IndexEngine.get_loc\u001b[39m\u001b[34m()\u001b[39m\n",
      "\u001b[36mFile \u001b[39m\u001b[32mpandas/_libs/hashtable_class_helper.pxi:7088\u001b[39m, in \u001b[36mpandas._libs.hashtable.PyObjectHashTable.get_item\u001b[39m\u001b[34m()\u001b[39m\n",
      "\u001b[36mFile \u001b[39m\u001b[32mpandas/_libs/hashtable_class_helper.pxi:7096\u001b[39m, in \u001b[36mpandas._libs.hashtable.PyObjectHashTable.get_item\u001b[39m\u001b[34m()\u001b[39m\n",
      "\u001b[31mKeyError\u001b[39m: 0",
      "\nThe above exception was the direct cause of the following exception:\n",
      "\u001b[31mKeyError\u001b[39m                                  Traceback (most recent call last)",
      "\u001b[36mCell\u001b[39m\u001b[36m \u001b[39m\u001b[32mIn[59]\u001b[39m\u001b[32m, line 8\u001b[39m\n\u001b[32m      1\u001b[39m df_same_lane = df_expanded[\n\u001b[32m      2\u001b[39m     (df_expanded[\u001b[33m\"\u001b[39m\u001b[33m0_lane\u001b[39m\u001b[33m\"\u001b[39m] == \u001b[33m\"\u001b[39m\u001b[33mTOP\u001b[39m\u001b[33m\"\u001b[39m) & (df_expanded[\u001b[33m\"\u001b[39m\u001b[33m1_lane\u001b[39m\u001b[33m\"\u001b[39m] == \u001b[33m\"\u001b[39m\u001b[33mTOP\u001b[39m\u001b[33m\"\u001b[39m) &\n\u001b[32m      3\u001b[39m     (df_expanded[\u001b[33m\"\u001b[39m\u001b[33m2_lane\u001b[39m\u001b[33m\"\u001b[39m] == \u001b[33m\"\u001b[39m\u001b[33mJUNGLE\u001b[39m\u001b[33m\"\u001b[39m) & (df_expanded[\u001b[33m\"\u001b[39m\u001b[33m3_lane\u001b[39m\u001b[33m\"\u001b[39m] == \u001b[33m\"\u001b[39m\u001b[33mJUNGLE\u001b[39m\u001b[33m\"\u001b[39m) &\n\u001b[32m   (...)\u001b[39m\u001b[32m      6\u001b[39m     (df_expanded[\u001b[33m\"\u001b[39m\u001b[33m8_lane\u001b[39m\u001b[33m\"\u001b[39m] == \u001b[33m\"\u001b[39m\u001b[33mUTILITY\u001b[39m\u001b[33m\"\u001b[39m) & (df_expanded[\u001b[33m\"\u001b[39m\u001b[33m9_lane\u001b[39m\u001b[33m\"\u001b[39m] == \u001b[33m\"\u001b[39m\u001b[33mUTILITY\u001b[39m\u001b[33m\"\u001b[39m)\n\u001b[32m      7\u001b[39m ]\n\u001b[32m----> \u001b[39m\u001b[32m8\u001b[39m lanes = \u001b[43mdf_same_lane\u001b[49m\u001b[43m[\u001b[49m\u001b[32;43m0\u001b[39;49m\u001b[43m]\u001b[49m[\u001b[33m\"\u001b[39m\u001b[33m\"\u001b[39m]\n",
      "\u001b[36mFile \u001b[39m\u001b[32mc:\\Users\\User\\Desktop\\programacao\\mc906\\venv\\Lib\\site-packages\\pandas\\core\\frame.py:4107\u001b[39m, in \u001b[36mDataFrame.__getitem__\u001b[39m\u001b[34m(self, key)\u001b[39m\n\u001b[32m   4105\u001b[39m \u001b[38;5;28;01mif\u001b[39;00m \u001b[38;5;28mself\u001b[39m.columns.nlevels > \u001b[32m1\u001b[39m:\n\u001b[32m   4106\u001b[39m     \u001b[38;5;28;01mreturn\u001b[39;00m \u001b[38;5;28mself\u001b[39m._getitem_multilevel(key)\n\u001b[32m-> \u001b[39m\u001b[32m4107\u001b[39m indexer = \u001b[38;5;28;43mself\u001b[39;49m\u001b[43m.\u001b[49m\u001b[43mcolumns\u001b[49m\u001b[43m.\u001b[49m\u001b[43mget_loc\u001b[49m\u001b[43m(\u001b[49m\u001b[43mkey\u001b[49m\u001b[43m)\u001b[49m\n\u001b[32m   4108\u001b[39m \u001b[38;5;28;01mif\u001b[39;00m is_integer(indexer):\n\u001b[32m   4109\u001b[39m     indexer = [indexer]\n",
      "\u001b[36mFile \u001b[39m\u001b[32mc:\\Users\\User\\Desktop\\programacao\\mc906\\venv\\Lib\\site-packages\\pandas\\core\\indexes\\base.py:3819\u001b[39m, in \u001b[36mIndex.get_loc\u001b[39m\u001b[34m(self, key)\u001b[39m\n\u001b[32m   3814\u001b[39m     \u001b[38;5;28;01mif\u001b[39;00m \u001b[38;5;28misinstance\u001b[39m(casted_key, \u001b[38;5;28mslice\u001b[39m) \u001b[38;5;129;01mor\u001b[39;00m (\n\u001b[32m   3815\u001b[39m         \u001b[38;5;28misinstance\u001b[39m(casted_key, abc.Iterable)\n\u001b[32m   3816\u001b[39m         \u001b[38;5;129;01mand\u001b[39;00m \u001b[38;5;28many\u001b[39m(\u001b[38;5;28misinstance\u001b[39m(x, \u001b[38;5;28mslice\u001b[39m) \u001b[38;5;28;01mfor\u001b[39;00m x \u001b[38;5;129;01min\u001b[39;00m casted_key)\n\u001b[32m   3817\u001b[39m     ):\n\u001b[32m   3818\u001b[39m         \u001b[38;5;28;01mraise\u001b[39;00m InvalidIndexError(key)\n\u001b[32m-> \u001b[39m\u001b[32m3819\u001b[39m     \u001b[38;5;28;01mraise\u001b[39;00m \u001b[38;5;167;01mKeyError\u001b[39;00m(key) \u001b[38;5;28;01mfrom\u001b[39;00m\u001b[38;5;250m \u001b[39m\u001b[34;01merr\u001b[39;00m\n\u001b[32m   3820\u001b[39m \u001b[38;5;28;01mexcept\u001b[39;00m \u001b[38;5;167;01mTypeError\u001b[39;00m:\n\u001b[32m   3821\u001b[39m     \u001b[38;5;66;03m# If we have a listlike key, _check_indexing_error will raise\u001b[39;00m\n\u001b[32m   3822\u001b[39m     \u001b[38;5;66;03m#  InvalidIndexError. Otherwise we fall through and re-raise\u001b[39;00m\n\u001b[32m   3823\u001b[39m     \u001b[38;5;66;03m#  the TypeError.\u001b[39;00m\n\u001b[32m   3824\u001b[39m     \u001b[38;5;28mself\u001b[39m._check_indexing_error(key)\n",
      "\u001b[31mKeyError\u001b[39m: 0"
     ]
    }
   ],
   "source": [
    "df_same_lane = df_expanded[\n",
    "    (df_expanded[\"0_lane\"] == \"TOP\") & (df_expanded[\"1_lane\"] == \"TOP\") &\n",
    "    (df_expanded[\"2_lane\"] == \"JUNGLE\") & (df_expanded[\"3_lane\"] == \"JUNGLE\") &\n",
    "    (df_expanded[\"4_lane\"] == \"MIDDLE\") & (df_expanded[\"5_lane\"] == \"MIDDLE\") &\n",
    "    (df_expanded[\"6_lane\"] == \"BOTTOM\") & (df_expanded[\"7_lane\"] == \"BOTTOM\") & \n",
    "    (df_expanded[\"8_lane\"] == \"UTILITY\") & (df_expanded[\"9_lane\"] == \"UTILITY\")\n",
    "]\n",
    "lanes = [lane for lane in df_same_lane[]]"
   ]
  },
  {
   "cell_type": "code",
   "execution_count": 37,
   "id": "e4e305ba",
   "metadata": {},
   "outputs": [
    {
     "name": "stdout",
     "output_type": "stream",
     "text": [
      "<class 'pandas.core.frame.DataFrame'>\n",
      "RangeIndex: 994 entries, 0 to 993\n",
      "Data columns (total 17 columns):\n",
      " #   Column         Non-Null Count  Dtype \n",
      "---  ------         --------------  ----- \n",
      " 0   0_championId   994 non-null    int64 \n",
      " 1   0_teamId       994 non-null    int64 \n",
      " 2   0_matchResult  994 non-null    bool  \n",
      " 3   0_kills        994 non-null    int64 \n",
      " 4   0_deaths       994 non-null    int64 \n",
      " 5   0_assists      994 non-null    int64 \n",
      " 6   0_goldEarned   994 non-null    int64 \n",
      " 7   0_lane         994 non-null    object\n",
      " 8   0_level        994 non-null    int64 \n",
      " 9   0_items        994 non-null    object\n",
      " 10  0_items_0      994 non-null    int64 \n",
      " 11  0_items_1      994 non-null    int64 \n",
      " 12  0_items_2      994 non-null    int64 \n",
      " 13  0_items_3      994 non-null    int64 \n",
      " 14  0_items_4      994 non-null    int64 \n",
      " 15  0_items_5      994 non-null    int64 \n",
      " 16  0_items_6      994 non-null    int64 \n",
      "dtypes: bool(1), int64(14), object(2)\n",
      "memory usage: 125.3+ KB\n"
     ]
    }
   ],
   "source": [
    "df_test = df_expanded[[col for col in df_expanded.columns if col.startswith(\"0\")]]\n",
    "df_test.info()"
   ]
  },
  {
   "cell_type": "code",
   "execution_count": null,
   "id": "9358080c",
   "metadata": {},
   "outputs": [],
   "source": [
    "# Load champion IDs\n",
    "with open(f\"champions.json\", \"r\", encoding=\"utf-8\") as f:\n",
    "    json_data = json.load(f)\n",
    "    champions_ids = [json_data[champion][\"id\"] for champion in json_data.keys()]\n",
    "\n",
    "# Load Item IDs (Only legendary items)\n",
    "with open(f\"items/items.json\", \"r\", encoding=\"utf-8\") as f:\n",
    "    json_data = json.load(f)\n",
    "    item_ids = [json_data[str_id][\"id\"] for str_id in json_data.keys() if json_data[str_id][\"tier\"] in [3, 4]]\n",
    "    item_ids = set(item_ids).intersection()"
   ]
  },
  {
   "cell_type": "code",
   "execution_count": null,
   "id": "43f4600b",
   "metadata": {},
   "outputs": [],
   "source": [
    "113619"
   ]
  }
 ],
 "metadata": {
  "kernelspec": {
   "display_name": "venv",
   "language": "python",
   "name": "python3"
  },
  "language_info": {
   "codemirror_mode": {
    "name": "ipython",
    "version": 3
   },
   "file_extension": ".py",
   "mimetype": "text/x-python",
   "name": "python",
   "nbconvert_exporter": "python",
   "pygments_lexer": "ipython3",
   "version": "3.12.10"
  }
 },
 "nbformat": 4,
 "nbformat_minor": 5
}

{
 "cells": [
  {
   "cell_type": "markdown",
   "id": "57b19e46",
   "metadata": {},
   "source": [
    "# Initial setup\n",
    "- Library imports\n",
    "- Utility functions"
   ]
  },
  {
   "cell_type": "code",
   "execution_count": null,
   "id": "6f254858",
   "metadata": {},
   "outputs": [],
   "source": [
    "import pandas as pd\n",
    "import numpy as np\n",
    "import json\n",
    "from glob import glob\n",
    "import os\n",
    "from collections import Counter\n",
    "\n",
    "from PIL import Image\n",
    "import requests\n",
    "from io import BytesIO\n",
    "\n",
    "from sklearn.preprocessing import MultiLabelBinarizer\n",
    "from sklearn.metrics import precision_score, recall_score"
   ]
  },
  {
   "cell_type": "code",
   "execution_count": 2,
   "id": "7a146419",
   "metadata": {},
   "outputs": [],
   "source": [
    "LANES = [\"TOP\", \"JUNGLE\", \"MIDDLE\", \"BOTTOM\", \"UTILITY\"]\n",
    "\n",
    "with open(os.path.join(\"game_data\", \"items.json\"), \"r\", encoding=\"utf-8\") as fp:\n",
    "    item_dict = json.load(fp)\n",
    "    ITEMS = {\n",
    "        item_id: item_info\n",
    "        for item_id, item_info in item_dict.items()\n",
    "        if item_info[\"tier\"] >= 3 or (item_info[\"tier\"] == 2 and \\\n",
    "            (\"BOOTS\" in item_info[\"rank\"] or item_info[\"id\"] in [3004, 3003, 3119, 3010, 3866])) or \\\n",
    "            (\"STARTER\" in item_info[\"rank\"])\n",
    "    }\n",
    "\n",
    "with open(os.path.join(\"game_data\", \"champions.json\"), \"r\", encoding=\"utf-8\") as fp:\n",
    "    CHAMP_DICT = json.load(fp)\n",
    "    CHAMP_NAME_TO_ID = {c: CHAMP_DICT[c][\"id\"] for c in CHAMP_DICT.keys()}\n",
    "    CHAMP_ID_TO_NAME = {CHAMP_DICT[c][\"id\"]: c for c in CHAMP_DICT.keys()}\n",
    "    CHAMPION_ICONS = {c: CHAMP_DICT[c][\"icon\"] for c in CHAMP_DICT.keys()}\n",
    "\n",
    "with open(os.path.join(\"game_data\", \"perks.json\"), \"r\", encoding=\"utf-8\") as fp:\n",
    "    PERK_ID_TO_NAME = json.load(fp)\n",
    "\n",
    "def get_item_name(item_id: int):\n",
    "    return ITEMS.get(str(int(item_id)), \"\").get(\"name\")\n",
    "\n",
    "def get_item_icon(item_id: int):\n",
    "    if not item_id:\n",
    "        return None\n",
    "    url = ITEMS.get(str(int(item_id)), {}).get(\"icon\", \"https://raw.communitydragon.org/latest/plugins/rcp-be-lol-game-data/global/default/data/spells/icons2d/summoner_empty.png\")\n",
    "    try:\n",
    "        response = requests.get(url)\n",
    "        img = Image.open(BytesIO(response.content))\n",
    "        return img\n",
    "    except:\n",
    "        return Image.new(\"RGB\", (64, 64))\n",
    "\n",
    "def get_champion_id(champion_name: str):\n",
    "    if champion_name is None:\n",
    "        return None\n",
    "    return CHAMP_NAME_TO_ID.get(champion_name, \"\")\n",
    "\n",
    "def get_champion_name(champion_id: int):\n",
    "    return CHAMP_ID_TO_NAME.get(champion_id)\n",
    "\n",
    "def get_champion_icon(champion_name: int):\n",
    "    if not champion_name:\n",
    "        return None\n",
    "    url = CHAMPION_ICONS.get(champion_name)\n",
    "    try:\n",
    "        response = requests.get(url)\n",
    "        img = Image.open(BytesIO(response.content))\n",
    "        return img\n",
    "    except:\n",
    "        return Image.new(\"RGB\", (64, 64))"
   ]
  },
  {
   "cell_type": "markdown",
   "id": "6bf65f81",
   "metadata": {},
   "source": [
    "# Fetching data"
   ]
  },
  {
   "cell_type": "code",
   "execution_count": 14,
   "id": "c26c14d0",
   "metadata": {},
   "outputs": [],
   "source": [
    "list_info = []\n",
    "max_size = 1000000\n",
    "size = 0\n",
    "for file in glob(\"features/postgame/*.json\"):\n",
    "    with open(file, \"r\", encoding=\"UTF-8\") as fp:\n",
    "        info = json.load(fp)\n",
    "    for matchId in info.keys():\n",
    "        for participant_info in info[matchId]:\n",
    "            items = participant_info[\"items\"]\n",
    "            champion = participant_info[\"championName\"]\n",
    "            list_info.append(items + [0] * (6 - len(items)) + [champion])\n",
    "            size += 1\n",
    "    if size >= max_size:\n",
    "        break\n",
    "df = pd.DataFrame(list_info, columns=[f\"item_{i}\" for i in range(6)] + [\"championName\"])"
   ]
  },
  {
   "cell_type": "code",
   "execution_count": 15,
   "id": "485e2151",
   "metadata": {},
   "outputs": [
    {
     "data": {
      "text/html": [
       "<div>\n",
       "<style scoped>\n",
       "    .dataframe tbody tr th:only-of-type {\n",
       "        vertical-align: middle;\n",
       "    }\n",
       "\n",
       "    .dataframe tbody tr th {\n",
       "        vertical-align: top;\n",
       "    }\n",
       "\n",
       "    .dataframe thead th {\n",
       "        text-align: right;\n",
       "    }\n",
       "</style>\n",
       "<table border=\"1\" class=\"dataframe\">\n",
       "  <thead>\n",
       "    <tr style=\"text-align: right;\">\n",
       "      <th></th>\n",
       "      <th>item_0</th>\n",
       "      <th>item_1</th>\n",
       "      <th>item_2</th>\n",
       "      <th>item_3</th>\n",
       "      <th>item_4</th>\n",
       "      <th>item_5</th>\n",
       "      <th>championName</th>\n",
       "    </tr>\n",
       "  </thead>\n",
       "  <tbody>\n",
       "    <tr>\n",
       "      <th>0</th>\n",
       "      <td>3071</td>\n",
       "      <td>1055</td>\n",
       "      <td>6610</td>\n",
       "      <td>3047</td>\n",
       "      <td>3161</td>\n",
       "      <td>0</td>\n",
       "      <td>Aatrox</td>\n",
       "    </tr>\n",
       "    <tr>\n",
       "      <th>1</th>\n",
       "      <td>2504</td>\n",
       "      <td>3143</td>\n",
       "      <td>3047</td>\n",
       "      <td>3110</td>\n",
       "      <td>0</td>\n",
       "      <td>0</td>\n",
       "      <td>Ornn</td>\n",
       "    </tr>\n",
       "    <tr>\n",
       "      <th>2</th>\n",
       "      <td>3107</td>\n",
       "      <td>3222</td>\n",
       "      <td>1082</td>\n",
       "      <td>6617</td>\n",
       "      <td>6621</td>\n",
       "      <td>3158</td>\n",
       "      <td>Ivern</td>\n",
       "    </tr>\n",
       "    <tr>\n",
       "      <th>3</th>\n",
       "      <td>3100</td>\n",
       "      <td>3152</td>\n",
       "      <td>3175</td>\n",
       "      <td>0</td>\n",
       "      <td>0</td>\n",
       "      <td>0</td>\n",
       "      <td>Nidalee</td>\n",
       "    </tr>\n",
       "    <tr>\n",
       "      <th>4</th>\n",
       "      <td>3152</td>\n",
       "      <td>3157</td>\n",
       "      <td>3020</td>\n",
       "      <td>0</td>\n",
       "      <td>0</td>\n",
       "      <td>0</td>\n",
       "      <td>Sylas</td>\n",
       "    </tr>\n",
       "  </tbody>\n",
       "</table>\n",
       "</div>"
      ],
      "text/plain": [
       "   item_0  item_1  item_2  item_3  item_4  item_5 championName\n",
       "0    3071    1055    6610    3047    3161       0       Aatrox\n",
       "1    2504    3143    3047    3110       0       0         Ornn\n",
       "2    3107    3222    1082    6617    6621    3158        Ivern\n",
       "3    3100    3152    3175       0       0       0      Nidalee\n",
       "4    3152    3157    3020       0       0       0        Sylas"
      ]
     },
     "execution_count": 15,
     "metadata": {},
     "output_type": "execute_result"
    }
   ],
   "source": [
    "df.head()"
   ]
  },
  {
   "cell_type": "markdown",
   "id": "aad9e557",
   "metadata": {},
   "source": [
    "# Base random model\n",
    "A model that predicts 6 completely random item id's.\n",
    "\n",
    "It's used as a base model for the models trained in `full_build_prediction.ipynb`."
   ]
  },
  {
   "cell_type": "code",
   "execution_count": null,
   "id": "f2266cc9",
   "metadata": {},
   "outputs": [
    {
     "name": "stdout",
     "output_type": "stream",
     "text": [
      "Recall@6: 0.04405598\n",
      "Precision@6: 0.02858198\n"
     ]
    }
   ],
   "source": [
    "np.random.seed(42)\n",
    "\n",
    "# All item ids\n",
    "item_ids = list([int(id) for id in ITEMS.keys()])\n",
    "n_samples = len(df)\n",
    "# For each row, 6 predictions sampled from item_ids\n",
    "pred_data = [\n",
    "    list(np.random.choice(item_ids, size=6, replace=False))\n",
    "    for _ in range(n_samples)\n",
    "]\n",
    "true_data = df.drop(columns=[\"championName\"])\n",
    "# Learn classes from the dataset + predictions\n",
    "all_labels = true_data.values.tolist() + pred_data\n",
    "mlb = MultiLabelBinarizer()\n",
    "mlb.fit(all_labels)\n",
    "# Transform both datasets\n",
    "y_test_bin = mlb.transform(true_data.values.tolist())\n",
    "pred_bin = mlb.transform(pred_data)\n",
    "# Find the column for item 0 and remove it (if present)\n",
    "if 0 in mlb.classes_:\n",
    "    zero_index = list(mlb.classes_).index(0)\n",
    "    y_test_bin = np.delete(y_test_bin, zero_index, axis=1)\n",
    "    pred_bin = np.delete(pred_bin, zero_index, axis=1)\n",
    "# Compute metrics\n",
    "recall_at_6 = recall_score(y_test_bin, pred_bin, average='samples', zero_division=0)\n",
    "precision_at_6 = precision_score(y_test_bin, pred_bin, average='samples', zero_division=0)\n",
    "print(f\"Recall@6: {recall_at_6:.8f}\")\n",
    "print(f\"Precision@6: {precision_at_6:.8f}\")"
   ]
  },
  {
   "cell_type": "markdown",
   "id": "4dc104c0",
   "metadata": {},
   "source": [
    "# Base guided model\n",
    "A model that predicts the 6 most common item id's for the given champion."
   ]
  },
  {
   "cell_type": "code",
   "execution_count": null,
   "id": "c7277c70",
   "metadata": {},
   "outputs": [
    {
     "name": "stdout",
     "output_type": "stream",
     "text": [
      "Recall@6: 0.68403697\n",
      "Precision@6: 0.43641631\n"
     ]
    }
   ],
   "source": [
    "# Combine item columns into a single list column\n",
    "item_cols = [f\"item_{i}\" for i in range(6)]\n",
    "df[\"items\"] = df[item_cols].values.tolist()\n",
    "# Create a mapping from champion to top 6 most common items\n",
    "champion_to_top_items = {}\n",
    "for champ, group in df.groupby(\"championName\"):\n",
    "    items_flat = [item for sublist in group[\"items\"] for item in sublist if item != 0]\n",
    "    top_items = [item for item, _ in Counter(items_flat).most_common(6)]\n",
    "    # Pad with zeros if fewer than 6 items\n",
    "    top_items += [0] * (6 - len(top_items))\n",
    "    champion_to_top_items[champ] = top_items\n",
    "# Create predictions for each row based on its champion\n",
    "pred_data = [\n",
    "    champion_to_top_items.get(champ, [0]*6)\n",
    "    for champ in df[\"championName\"]\n",
    "]\n",
    "# Concatenate all labels for binarizer fitting\n",
    "all_labels = df[\"items\"].tolist() + pred_data\n",
    "mlb = MultiLabelBinarizer()\n",
    "mlb.fit(all_labels)\n",
    "y_test_bin = mlb.transform(df[\"items\"])\n",
    "pred_bin = mlb.transform(pred_data)\n",
    "# Remove item 0 column if present\n",
    "if 0 in mlb.classes_:\n",
    "    zero_index = list(mlb.classes_).index(0)\n",
    "    y_test_bin = np.delete(y_test_bin, zero_index, axis=1)\n",
    "    pred_bin = np.delete(pred_bin, zero_index, axis=1)\n",
    "# Compute metrics\n",
    "recall_at_6 = recall_score(y_test_bin, pred_bin, average='samples', zero_division=0)\n",
    "precision_at_6 = precision_score(y_test_bin, pred_bin, average='samples', zero_division=0)\n",
    "print(f\"Recall@6: {recall_at_6:.8f}\")\n",
    "print(f\"Precision@6: {precision_at_6:.8f}\")"
   ]
  }
 ],
 "metadata": {
  "kernelspec": {
   "display_name": "venv",
   "language": "python",
   "name": "python3"
  },
  "language_info": {
   "codemirror_mode": {
    "name": "ipython",
    "version": 3
   },
   "file_extension": ".py",
   "mimetype": "text/x-python",
   "name": "python",
   "nbconvert_exporter": "python",
   "pygments_lexer": "ipython3",
   "version": "3.12.10"
  }
 },
 "nbformat": 4,
 "nbformat_minor": 5
}
